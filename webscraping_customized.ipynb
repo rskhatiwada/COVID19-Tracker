{
 "cells": [
  {
   "cell_type": "code",
   "execution_count": null,
   "id": "22f65520",
   "metadata": {},
   "outputs": [],
   "source": [
    "\n",
    "# Installing necessary libraries (if not already installed)\n",
    "# Uncomment below if running in an environment without these packages installed\n",
    "# !pip install bs4 requests pandas\n",
    "    "
   ]
  },
  {
   "cell_type": "code",
   "execution_count": null,
   "id": "dcd07495",
   "metadata": {},
   "outputs": [],
   "source": [
    "\n",
    "import requests\n",
    "from bs4 import BeautifulSoup\n",
    "import pandas as pd\n",
    "\n",
    "# Function to fetch page content\n",
    "def fetch_data(url):\n",
    "    try:\n",
    "        response = requests.get(url)\n",
    "        response.raise_for_status()\n",
    "        return response.content\n",
    "    except requests.exceptions.RequestException as e:\n",
    "        print(f\"Error fetching data from {url}: {e}\")\n",
    "        return None\n",
    "\n",
    "# Specify the URL for scraping\n",
    "url = 'https://www.example-math-website.com/problems'\n",
    "page_content = fetch_data(url)\n",
    "    "
   ]
  },
  {
   "cell_type": "code",
   "execution_count": null,
   "id": "6563c098",
   "metadata": {},
   "outputs": [],
   "source": [
    "\n",
    "# Function to parse and extract math problems, topics, solutions, and difficulty levels\n",
    "def parse_data(content):\n",
    "    soup = BeautifulSoup(content, 'html.parser')\n",
    "    topics, problems, solutions, difficulty_levels = [], [], [], []\n",
    "    \n",
    "    for problem_section in soup.find_all(\"div\", class_=\"problem-container\"):\n",
    "        topic = problem_section.find(\"span\", class_=\"topic\").get_text(strip=True)\n",
    "        problem_text = problem_section.find(\"div\", class_=\"problem-text\").get_text(strip=True)\n",
    "        solution_text = problem_section.find(\"div\", class_=\"solution-text\").get_text(strip=True)\n",
    "        difficulty = problem_section.find(\"span\", class_=\"difficulty\").get_text(strip=True)\n",
    "        \n",
    "        # Append scraped data to lists\n",
    "        topics.append(topic)\n",
    "        problems.append(problem_text)\n",
    "        solutions.append(solution_text)\n",
    "        difficulty_levels.append(difficulty)\n",
    "\n",
    "    return pd.DataFrame({\n",
    "        \"Topic\": topics,\n",
    "        \"Problem\": problems,\n",
    "        \"Solution\": solutions,\n",
    "        \"Difficulty\": difficulty_levels\n",
    "    })\n",
    "\n",
    "# Parse the data and store it in a DataFrame\n",
    "if page_content:\n",
    "    df = parse_data(page_content)\n",
    "    print(\"Data parsed successfully.\")\n",
    "else:\n",
    "    df = pd.DataFrame()  # Empty DataFrame if content not fetched\n",
    "    "
   ]
  },
  {
   "cell_type": "code",
   "execution_count": null,
   "id": "cfe814bc",
   "metadata": {},
   "outputs": [],
   "source": [
    "\n",
    "# Save the DataFrame to CSV\n",
    "def save_data(dataframe, filename=\"math_problems.csv\"):\n",
    "    dataframe.to_csv(filename, index=False)\n",
    "    print(f\"Data saved to {filename}\")\n",
    "\n",
    "if not df.empty:\n",
    "    save_data(df)\n",
    "    "
   ]
  }
 ],
 "metadata": {},
 "nbformat": 4,
 "nbformat_minor": 5
}
